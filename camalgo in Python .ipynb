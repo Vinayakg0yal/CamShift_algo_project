{
 "cells": [
  {
   "cell_type": "markdown",
   "metadata": {},
   "source": [
    "# CAMSHIFT ALGORITHM"
   ]
  },
  {
   "cell_type": "markdown",
   "metadata": {},
   "source": [
    "The CAMShift (Continuously Adaptive Mean Shift) algorithm is a colour-based object tracking method introduced by Gary Bradski in 1998 to reduce computational complexity of the methods used during that period and to deal with problems such as image noise, distractors\n",
    "\n",
    "The CAMShift algorithm derived from the mean shift algorithm, which is responsible for finding the centre of the probability distribution of the object to track. The main difference is that CAMShift adjusts itself to the search window size, for example when object sizes are changing as they move closer to or farther from the camera."
   ]
  },
  {
   "cell_type": "markdown",
   "metadata": {},
   "source": [
    "***CODE RUN*** - **After Code Run Select the Area in frame with mouse (hold left and drag) which you wanna track**"
   ]
  },
  {
   "cell_type": "markdown",
   "metadata": {},
   "source": [
    "***QUIT FRAME*** - **Press Esc key**"
   ]
  },
  {
   "cell_type": "markdown",
   "metadata": {},
   "source": [
    "***Note*** - **Works Fine in Plain background**"
   ]
  },
  {
   "cell_type": "code",
   "execution_count": 4,
   "metadata": {},
   "outputs": [],
   "source": [
    "import cv2\n",
    "import numpy as np\n",
    "\n",
    "\n",
    "xs,ys,ms,ns = 0,0,0,0  #selection.x selection.y\n",
    "xo,yo=0,0 #origin.x origin.y\n",
    "selectObject = False\n",
    "trackObject = 0\n",
    "def onMouse(event, x, y, flags, prams): \n",
    "    global xs,ys,ms,ns,selectObject,xo,yo,trackObject\n",
    "    if selectObject == True:\n",
    "        xs = min(x, xo)\n",
    "        ys = min(y, yo)\n",
    "        ms = abs(x-xo)\n",
    "        ns = abs(y-yo)\n",
    "    if event == cv2.EVENT_LBUTTONDOWN:\n",
    "        xo,yo = x, y\n",
    "        xs,ys,ms,ns= x, y, 0, 0\n",
    "        selectObject = True\n",
    "    elif event == cv2.EVENT_LBUTTONUP:\n",
    "        selectObject = False\n",
    "        trackObject = -1\n",
    "\n",
    "capture = cv2.VideoCapture(0)\n",
    "ret,frame = capture.read()\n",
    "cv2.namedWindow('frame')\n",
    "cv2.setMouseCallback('frame',onMouse)\n",
    "term_crit = ( cv2.TERM_CRITERIA_EPS | cv2.TERM_CRITERIA_COUNT, 10, 1 )\n",
    "while(True):\n",
    "    ret,frame = capture.read()\n",
    "    if trackObject != 0:\n",
    "        hsv =  cv2.cvtColor(frame, cv2.COLOR_BGR2HSV)\n",
    "        mask = cv2.inRange(hsv, np.array((0., 30.,10.)), np.array((180.,256.,255.)))\n",
    "        if trackObject == -1:\n",
    "            track_window=(xs,ys,ms,ns)\n",
    "            maskroi = mask[ys:ys+ns, xs:xs+ms]\n",
    "            hsv_roi = hsv[ys:ys+ns, xs:xs+ms]\n",
    "            roi_hist = cv2.calcHist([hsv_roi],[0],maskroi,[180],[0,180])\n",
    "            cv2.normalize(roi_hist,roi_hist,0,255,cv2.NORM_MINMAX)\n",
    "            trackObject = 1\n",
    "        dst = cv2.calcBackProject([hsv], [0], roi_hist, [0, 180], 1)\n",
    "        dst &= mask\n",
    "        ret, track_window = cv2.CamShift(dst, track_window, term_crit)\n",
    "        pts = cv2.boxPoints(ret)\n",
    "        pts = np.int0(pts)\n",
    "        img2 = cv2.polylines(frame,[pts],True, 255,2)\n",
    "        \n",
    "    if selectObject == True and ms>0 and ns>0:\n",
    "        cv2.imshow('frame2',frame[ys:ys+ns,xs:xs+ms])\n",
    "        cv2.bitwise_not(frame[ys:ys+ns,xs:xs+ms],frame[ys:ys+ns,xs:xs+ms])\n",
    "    cv2.imshow('frame',frame)\n",
    "    if  cv2.waitKey(10)==27:\n",
    "        break\n",
    "cv2.destroyAllWindows()"
   ]
  },
  {
   "cell_type": "code",
   "execution_count": null,
   "metadata": {},
   "outputs": [],
   "source": []
  }
 ],
 "metadata": {
  "kernelspec": {
   "display_name": "Python 3",
   "language": "python",
   "name": "python3"
  },
  "language_info": {
   "codemirror_mode": {
    "name": "ipython",
    "version": 3
   },
   "file_extension": ".py",
   "mimetype": "text/x-python",
   "name": "python",
   "nbconvert_exporter": "python",
   "pygments_lexer": "ipython3",
   "version": "3.7.0"
  }
 },
 "nbformat": 4,
 "nbformat_minor": 2
}
